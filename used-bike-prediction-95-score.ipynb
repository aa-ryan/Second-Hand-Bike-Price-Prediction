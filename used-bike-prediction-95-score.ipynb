{
  "metadata": {
    "kernelspec": {
      "language": "python",
      "display_name": "Python 3",
      "name": "python3"
    },
    "language_info": {
      "name": "python",
      "version": "3.7.10",
      "mimetype": "text/x-python",
      "codemirror_mode": {
        "name": "ipython",
        "version": 3
      },
      "pygments_lexer": "ipython3",
      "nbconvert_exporter": "python",
      "file_extension": ".py"
    },
    "colab": {
      "provenance": []
    },
    "accelerator": "GPU",
    "gpuClass": "standard"
  },
  "nbformat_minor": 0,
  "nbformat": 4,
  "cells": [
    {
      "cell_type": "code",
      "source": [
        "!rm -rf Used_Bikes.csv\n",
        "!git clone https://github.com/aa-ryan/Second-Hand-Bike-Price-Prediction"
      ],
      "metadata": {
        "id": "JRUZfWpaKqBa",
        "outputId": "6da50b67-c760-4844-943c-b988d93f9d62",
        "colab": {
          "base_uri": "https://localhost:8080/"
        }
      },
      "execution_count": 1,
      "outputs": [
        {
          "output_type": "stream",
          "name": "stdout",
          "text": [
            "Cloning into 'Second-Hand-Bike-Price-Prediction'...\n",
            "remote: Enumerating objects: 14, done.\u001b[K\n",
            "remote: Counting objects: 100% (14/14), done.\u001b[K\n",
            "remote: Compressing objects: 100% (10/10), done.\u001b[K\n",
            "remote: Total 14 (delta 1), reused 14 (delta 1), pack-reused 0\u001b[K\n",
            "Unpacking objects: 100% (14/14), 1.07 MiB | 5.19 MiB/s, done.\n"
          ]
        }
      ]
    },
    {
      "cell_type": "code",
      "source": [
        "#Modules for EDA\n",
        "import numpy as np\n",
        "import pandas as pd\n",
        "from matplotlib import pyplot as plt\n",
        "import seaborn as sns\n",
        "plt.style.use(\"seaborn\")\n",
        "%matplotlib inline"
      ],
      "metadata": {
        "execution": {
          "iopub.status.busy": "2021-07-26T12:22:32.777435Z",
          "iopub.execute_input": "2021-07-26T12:22:32.777811Z",
          "iopub.status.idle": "2021-07-26T12:22:32.785698Z",
          "shell.execute_reply.started": "2021-07-26T12:22:32.777776Z",
          "shell.execute_reply": "2021-07-26T12:22:32.784679Z"
        },
        "trusted": true,
        "id": "B2sYTna4Knmu",
        "outputId": "f8daae0d-b9c3-426a-e1dd-e8223d85a8eb",
        "colab": {
          "base_uri": "https://localhost:8080/"
        }
      },
      "execution_count": 2,
      "outputs": [
        {
          "output_type": "stream",
          "name": "stderr",
          "text": [
            "<ipython-input-2-038044882a6a>:6: MatplotlibDeprecationWarning: The seaborn styles shipped by Matplotlib are deprecated since 3.6, as they no longer correspond to the styles shipped by seaborn. However, they will remain available as 'seaborn-v0_8-<style>'. Alternatively, directly use the seaborn API instead.\n",
            "  plt.style.use(\"seaborn\")\n"
          ]
        }
      ]
    },
    {
      "cell_type": "code",
      "source": [
        "#Machine learning packages\n",
        "from sklearn.preprocessing import MinMaxScaler\n",
        "from sklearn.model_selection import train_test_split, cross_val_score,GridSearchCV\n",
        "from sklearn.linear_model import LinearRegression,Ridge,Lasso\n",
        "from sklearn.neighbors import KNeighborsRegressor\n",
        "from sklearn.svm import SVR\n",
        "from sklearn.ensemble import RandomForestRegressor\n",
        "from sklearn.metrics import mean_squared_error,r2_score\n",
        "import joblib"
      ],
      "metadata": {
        "execution": {
          "iopub.status.busy": "2021-07-26T14:31:18.217521Z",
          "iopub.execute_input": "2021-07-26T14:31:18.217927Z",
          "iopub.status.idle": "2021-07-26T14:31:18.224482Z",
          "shell.execute_reply.started": "2021-07-26T14:31:18.217891Z",
          "shell.execute_reply": "2021-07-26T14:31:18.222902Z"
        },
        "trusted": true,
        "id": "VVRBYUBmKnmw"
      },
      "execution_count": 3,
      "outputs": []
    },
    {
      "cell_type": "code",
      "source": [
        "df = pd.read_csv('Second-Hand-Bike-Price-Prediction/Used_Bikes.csv')\n",
        "df.shape"
      ],
      "metadata": {
        "execution": {
          "iopub.status.busy": "2021-07-26T15:10:02.125538Z",
          "iopub.execute_input": "2021-07-26T15:10:02.126394Z",
          "iopub.status.idle": "2021-07-26T15:10:02.217288Z",
          "shell.execute_reply.started": "2021-07-26T15:10:02.126339Z",
          "shell.execute_reply": "2021-07-26T15:10:02.216357Z"
        },
        "trusted": true,
        "id": "mQ1aFkTXKnmy",
        "outputId": "b74e063b-9d8d-48de-e576-e494a2b60478",
        "colab": {
          "base_uri": "https://localhost:8080/"
        }
      },
      "execution_count": 4,
      "outputs": [
        {
          "output_type": "execute_result",
          "data": {
            "text/plain": [
              "(32648, 8)"
            ]
          },
          "metadata": {},
          "execution_count": 4
        }
      ]
    },
    {
      "cell_type": "code",
      "source": [
        "df.info()"
      ],
      "metadata": {
        "execution": {
          "iopub.status.busy": "2021-07-26T15:10:05.204225Z",
          "iopub.execute_input": "2021-07-26T15:10:05.204648Z",
          "iopub.status.idle": "2021-07-26T15:10:05.236606Z",
          "shell.execute_reply.started": "2021-07-26T15:10:05.204613Z",
          "shell.execute_reply": "2021-07-26T15:10:05.235764Z"
        },
        "trusted": true,
        "id": "4cxagUO9Knm1",
        "outputId": "11dd592b-d12d-4478-cc73-1fb61fa41a70",
        "colab": {
          "base_uri": "https://localhost:8080/"
        }
      },
      "execution_count": 5,
      "outputs": [
        {
          "output_type": "stream",
          "name": "stdout",
          "text": [
            "<class 'pandas.core.frame.DataFrame'>\n",
            "RangeIndex: 32648 entries, 0 to 32647\n",
            "Data columns (total 8 columns):\n",
            " #   Column      Non-Null Count  Dtype  \n",
            "---  ------      --------------  -----  \n",
            " 0   bike_name   32648 non-null  object \n",
            " 1   price       32648 non-null  float64\n",
            " 2   city        32648 non-null  object \n",
            " 3   kms_driven  32648 non-null  float64\n",
            " 4   owner       32648 non-null  object \n",
            " 5   age         32648 non-null  float64\n",
            " 6   power       32648 non-null  float64\n",
            " 7   brand       32648 non-null  object \n",
            "dtypes: float64(4), object(4)\n",
            "memory usage: 2.0+ MB\n"
          ]
        }
      ]
    },
    {
      "cell_type": "code",
      "source": [
        "df.isna().sum()"
      ],
      "metadata": {
        "execution": {
          "iopub.status.busy": "2021-07-26T12:22:33.023222Z",
          "iopub.execute_input": "2021-07-26T12:22:33.023641Z",
          "iopub.status.idle": "2021-07-26T12:22:33.047735Z",
          "shell.execute_reply.started": "2021-07-26T12:22:33.023609Z",
          "shell.execute_reply": "2021-07-26T12:22:33.046676Z"
        },
        "trusted": true,
        "id": "9rSclVMEKnm4",
        "outputId": "0b1a3656-0abd-4a48-e0a9-184727761195",
        "colab": {
          "base_uri": "https://localhost:8080/"
        }
      },
      "execution_count": 6,
      "outputs": [
        {
          "output_type": "execute_result",
          "data": {
            "text/plain": [
              "bike_name     0\n",
              "price         0\n",
              "city          0\n",
              "kms_driven    0\n",
              "owner         0\n",
              "age           0\n",
              "power         0\n",
              "brand         0\n",
              "dtype: int64"
            ]
          },
          "metadata": {},
          "execution_count": 6
        }
      ]
    },
    {
      "cell_type": "code",
      "source": [
        "df.head()"
      ],
      "metadata": {
        "execution": {
          "iopub.status.busy": "2021-07-26T12:22:33.126695Z",
          "iopub.execute_input": "2021-07-26T12:22:33.127255Z",
          "iopub.status.idle": "2021-07-26T12:22:33.146297Z",
          "shell.execute_reply.started": "2021-07-26T12:22:33.127192Z",
          "shell.execute_reply": "2021-07-26T12:22:33.145095Z"
        },
        "trusted": true,
        "id": "jzc_3eIZKnm6",
        "outputId": "4cf5a931-36ba-4852-c258-79eef47c09d5",
        "colab": {
          "base_uri": "https://localhost:8080/",
          "height": 204
        }
      },
      "execution_count": 7,
      "outputs": [
        {
          "output_type": "execute_result",
          "data": {
            "text/plain": [
              "                              bike_name     price       city  kms_driven  \\\n",
              "0    TVS Star City Plus Dual Tone 110cc   35000.0  Ahmedabad     17654.0   \n",
              "1           Royal Enfield Classic 350cc  119900.0      Delhi     11000.0   \n",
              "2                  Triumph Daytona 675R  600000.0      Delhi       110.0   \n",
              "3                  TVS Apache RTR 180cc   65000.0  Bangalore     16329.0   \n",
              "4  Yamaha FZ S V 2.0 150cc-Ltd. Edition   80000.0  Bangalore     10000.0   \n",
              "\n",
              "         owner  age  power          brand  \n",
              "0  First Owner  3.0  110.0            TVS  \n",
              "1  First Owner  4.0  350.0  Royal Enfield  \n",
              "2  First Owner  8.0  675.0        Triumph  \n",
              "3  First Owner  4.0  180.0            TVS  \n",
              "4  First Owner  3.0  150.0         Yamaha  "
            ],
            "text/html": [
              "\n",
              "  <div id=\"df-bc836be1-73da-4bad-83e1-cbfa66b60c08\">\n",
              "    <div class=\"colab-df-container\">\n",
              "      <div>\n",
              "<style scoped>\n",
              "    .dataframe tbody tr th:only-of-type {\n",
              "        vertical-align: middle;\n",
              "    }\n",
              "\n",
              "    .dataframe tbody tr th {\n",
              "        vertical-align: top;\n",
              "    }\n",
              "\n",
              "    .dataframe thead th {\n",
              "        text-align: right;\n",
              "    }\n",
              "</style>\n",
              "<table border=\"1\" class=\"dataframe\">\n",
              "  <thead>\n",
              "    <tr style=\"text-align: right;\">\n",
              "      <th></th>\n",
              "      <th>bike_name</th>\n",
              "      <th>price</th>\n",
              "      <th>city</th>\n",
              "      <th>kms_driven</th>\n",
              "      <th>owner</th>\n",
              "      <th>age</th>\n",
              "      <th>power</th>\n",
              "      <th>brand</th>\n",
              "    </tr>\n",
              "  </thead>\n",
              "  <tbody>\n",
              "    <tr>\n",
              "      <th>0</th>\n",
              "      <td>TVS Star City Plus Dual Tone 110cc</td>\n",
              "      <td>35000.0</td>\n",
              "      <td>Ahmedabad</td>\n",
              "      <td>17654.0</td>\n",
              "      <td>First Owner</td>\n",
              "      <td>3.0</td>\n",
              "      <td>110.0</td>\n",
              "      <td>TVS</td>\n",
              "    </tr>\n",
              "    <tr>\n",
              "      <th>1</th>\n",
              "      <td>Royal Enfield Classic 350cc</td>\n",
              "      <td>119900.0</td>\n",
              "      <td>Delhi</td>\n",
              "      <td>11000.0</td>\n",
              "      <td>First Owner</td>\n",
              "      <td>4.0</td>\n",
              "      <td>350.0</td>\n",
              "      <td>Royal Enfield</td>\n",
              "    </tr>\n",
              "    <tr>\n",
              "      <th>2</th>\n",
              "      <td>Triumph Daytona 675R</td>\n",
              "      <td>600000.0</td>\n",
              "      <td>Delhi</td>\n",
              "      <td>110.0</td>\n",
              "      <td>First Owner</td>\n",
              "      <td>8.0</td>\n",
              "      <td>675.0</td>\n",
              "      <td>Triumph</td>\n",
              "    </tr>\n",
              "    <tr>\n",
              "      <th>3</th>\n",
              "      <td>TVS Apache RTR 180cc</td>\n",
              "      <td>65000.0</td>\n",
              "      <td>Bangalore</td>\n",
              "      <td>16329.0</td>\n",
              "      <td>First Owner</td>\n",
              "      <td>4.0</td>\n",
              "      <td>180.0</td>\n",
              "      <td>TVS</td>\n",
              "    </tr>\n",
              "    <tr>\n",
              "      <th>4</th>\n",
              "      <td>Yamaha FZ S V 2.0 150cc-Ltd. Edition</td>\n",
              "      <td>80000.0</td>\n",
              "      <td>Bangalore</td>\n",
              "      <td>10000.0</td>\n",
              "      <td>First Owner</td>\n",
              "      <td>3.0</td>\n",
              "      <td>150.0</td>\n",
              "      <td>Yamaha</td>\n",
              "    </tr>\n",
              "  </tbody>\n",
              "</table>\n",
              "</div>\n",
              "      <button class=\"colab-df-convert\" onclick=\"convertToInteractive('df-bc836be1-73da-4bad-83e1-cbfa66b60c08')\"\n",
              "              title=\"Convert this dataframe to an interactive table.\"\n",
              "              style=\"display:none;\">\n",
              "        \n",
              "  <svg xmlns=\"http://www.w3.org/2000/svg\" height=\"24px\"viewBox=\"0 0 24 24\"\n",
              "       width=\"24px\">\n",
              "    <path d=\"M0 0h24v24H0V0z\" fill=\"none\"/>\n",
              "    <path d=\"M18.56 5.44l.94 2.06.94-2.06 2.06-.94-2.06-.94-.94-2.06-.94 2.06-2.06.94zm-11 1L8.5 8.5l.94-2.06 2.06-.94-2.06-.94L8.5 2.5l-.94 2.06-2.06.94zm10 10l.94 2.06.94-2.06 2.06-.94-2.06-.94-.94-2.06-.94 2.06-2.06.94z\"/><path d=\"M17.41 7.96l-1.37-1.37c-.4-.4-.92-.59-1.43-.59-.52 0-1.04.2-1.43.59L10.3 9.45l-7.72 7.72c-.78.78-.78 2.05 0 2.83L4 21.41c.39.39.9.59 1.41.59.51 0 1.02-.2 1.41-.59l7.78-7.78 2.81-2.81c.8-.78.8-2.07 0-2.86zM5.41 20L4 18.59l7.72-7.72 1.47 1.35L5.41 20z\"/>\n",
              "  </svg>\n",
              "      </button>\n",
              "      \n",
              "  <style>\n",
              "    .colab-df-container {\n",
              "      display:flex;\n",
              "      flex-wrap:wrap;\n",
              "      gap: 12px;\n",
              "    }\n",
              "\n",
              "    .colab-df-convert {\n",
              "      background-color: #E8F0FE;\n",
              "      border: none;\n",
              "      border-radius: 50%;\n",
              "      cursor: pointer;\n",
              "      display: none;\n",
              "      fill: #1967D2;\n",
              "      height: 32px;\n",
              "      padding: 0 0 0 0;\n",
              "      width: 32px;\n",
              "    }\n",
              "\n",
              "    .colab-df-convert:hover {\n",
              "      background-color: #E2EBFA;\n",
              "      box-shadow: 0px 1px 2px rgba(60, 64, 67, 0.3), 0px 1px 3px 1px rgba(60, 64, 67, 0.15);\n",
              "      fill: #174EA6;\n",
              "    }\n",
              "\n",
              "    [theme=dark] .colab-df-convert {\n",
              "      background-color: #3B4455;\n",
              "      fill: #D2E3FC;\n",
              "    }\n",
              "\n",
              "    [theme=dark] .colab-df-convert:hover {\n",
              "      background-color: #434B5C;\n",
              "      box-shadow: 0px 1px 3px 1px rgba(0, 0, 0, 0.15);\n",
              "      filter: drop-shadow(0px 1px 2px rgba(0, 0, 0, 0.3));\n",
              "      fill: #FFFFFF;\n",
              "    }\n",
              "  </style>\n",
              "\n",
              "      <script>\n",
              "        const buttonEl =\n",
              "          document.querySelector('#df-bc836be1-73da-4bad-83e1-cbfa66b60c08 button.colab-df-convert');\n",
              "        buttonEl.style.display =\n",
              "          google.colab.kernel.accessAllowed ? 'block' : 'none';\n",
              "\n",
              "        async function convertToInteractive(key) {\n",
              "          const element = document.querySelector('#df-bc836be1-73da-4bad-83e1-cbfa66b60c08');\n",
              "          const dataTable =\n",
              "            await google.colab.kernel.invokeFunction('convertToInteractive',\n",
              "                                                     [key], {});\n",
              "          if (!dataTable) return;\n",
              "\n",
              "          const docLinkHtml = 'Like what you see? Visit the ' +\n",
              "            '<a target=\"_blank\" href=https://colab.research.google.com/notebooks/data_table.ipynb>data table notebook</a>'\n",
              "            + ' to learn more about interactive tables.';\n",
              "          element.innerHTML = '';\n",
              "          dataTable['output_type'] = 'display_data';\n",
              "          await google.colab.output.renderOutput(dataTable, element);\n",
              "          const docLink = document.createElement('div');\n",
              "          docLink.innerHTML = docLinkHtml;\n",
              "          element.appendChild(docLink);\n",
              "        }\n",
              "      </script>\n",
              "    </div>\n",
              "  </div>\n",
              "  "
            ]
          },
          "metadata": {},
          "execution_count": 7
        }
      ]
    },
    {
      "cell_type": "code",
      "source": [
        "df.drop('bike_name',axis=1,inplace=True)"
      ],
      "metadata": {
        "execution": {
          "iopub.status.busy": "2021-07-26T15:15:28.718655Z",
          "iopub.execute_input": "2021-07-26T15:15:28.719092Z",
          "iopub.status.idle": "2021-07-26T15:15:28.729217Z",
          "shell.execute_reply.started": "2021-07-26T15:15:28.719054Z",
          "shell.execute_reply": "2021-07-26T15:15:28.727996Z"
        },
        "trusted": true,
        "id": "rYYSAEPTKnm8"
      },
      "execution_count": 8,
      "outputs": []
    },
    {
      "cell_type": "markdown",
      "source": [
        "# **Let's Figure Out unique bike brands**"
      ],
      "metadata": {
        "id": "rWBZFt6bKnnA"
      }
    },
    {
      "cell_type": "code",
      "source": [
        "df['brand'].value_counts()"
      ],
      "metadata": {
        "execution": {
          "iopub.status.busy": "2021-07-26T15:10:30.485953Z",
          "iopub.execute_input": "2021-07-26T15:10:30.486551Z",
          "iopub.status.idle": "2021-07-26T15:10:30.503391Z",
          "shell.execute_reply.started": "2021-07-26T15:10:30.486512Z",
          "shell.execute_reply": "2021-07-26T15:10:30.501818Z"
        },
        "trusted": true,
        "id": "GBkFBaykKnnB",
        "outputId": "e15219aa-1527-4180-c036-b9c1a0202c27",
        "colab": {
          "base_uri": "https://localhost:8080/"
        }
      },
      "execution_count": 9,
      "outputs": [
        {
          "output_type": "execute_result",
          "data": {
            "text/plain": [
              "Bajaj              11213\n",
              "Hero                6368\n",
              "Royal Enfield       4178\n",
              "Yamaha              3916\n",
              "Honda               2108\n",
              "Suzuki              1464\n",
              "TVS                 1247\n",
              "KTM                 1077\n",
              "Harley-Davidson      737\n",
              "Kawasaki              79\n",
              "Hyosung               64\n",
              "Benelli               56\n",
              "Mahindra              55\n",
              "Triumph               26\n",
              "Ducati                22\n",
              "BMW                   16\n",
              "Jawa                  10\n",
              "MV                     4\n",
              "Indian                 3\n",
              "Ideal                  2\n",
              "Rajdoot                1\n",
              "LML                    1\n",
              "Yezdi                  1\n",
              "Name: brand, dtype: int64"
            ]
          },
          "metadata": {},
          "execution_count": 9
        }
      ]
    },
    {
      "cell_type": "markdown",
      "source": [
        "# **Replacing Bike brands to others which are less than 1000**"
      ],
      "metadata": {
        "id": "eOtxujl1KnnD"
      }
    },
    {
      "cell_type": "code",
      "source": [
        "brands = df['brand'].value_counts()\n",
        "bike_brands_less_than_100 = brands[brands<=1000]\n",
        "bike_brands_less_than_100"
      ],
      "metadata": {
        "execution": {
          "iopub.status.busy": "2021-07-26T15:12:22.034029Z",
          "iopub.execute_input": "2021-07-26T15:12:22.034667Z",
          "iopub.status.idle": "2021-07-26T15:12:22.054964Z",
          "shell.execute_reply.started": "2021-07-26T15:12:22.034618Z",
          "shell.execute_reply": "2021-07-26T15:12:22.053657Z"
        },
        "trusted": true,
        "id": "bBXqE9uFKnnF",
        "outputId": "37b3adfe-3fd7-4804-eedf-46afbb9d6268",
        "colab": {
          "base_uri": "https://localhost:8080/"
        }
      },
      "execution_count": 10,
      "outputs": [
        {
          "output_type": "execute_result",
          "data": {
            "text/plain": [
              "Harley-Davidson    737\n",
              "Kawasaki            79\n",
              "Hyosung             64\n",
              "Benelli             56\n",
              "Mahindra            55\n",
              "Triumph             26\n",
              "Ducati              22\n",
              "BMW                 16\n",
              "Jawa                10\n",
              "MV                   4\n",
              "Indian               3\n",
              "Ideal                2\n",
              "Rajdoot              1\n",
              "LML                  1\n",
              "Yezdi                1\n",
              "Name: brand, dtype: int64"
            ]
          },
          "metadata": {},
          "execution_count": 10
        }
      ]
    },
    {
      "cell_type": "code",
      "source": [
        "print(\"Other brands total\",sum(bike_brands_less_than_100))"
      ],
      "metadata": {
        "execution": {
          "iopub.status.busy": "2021-07-26T15:12:28.583138Z",
          "iopub.execute_input": "2021-07-26T15:12:28.583513Z",
          "iopub.status.idle": "2021-07-26T15:12:28.589003Z",
          "shell.execute_reply.started": "2021-07-26T15:12:28.583479Z",
          "shell.execute_reply": "2021-07-26T15:12:28.588041Z"
        },
        "trusted": true,
        "id": "mJ3AfiyzKnnJ",
        "outputId": "b20975a3-aaeb-40e9-f46c-9e5cefc7beab",
        "colab": {
          "base_uri": "https://localhost:8080/"
        }
      },
      "execution_count": 11,
      "outputs": [
        {
          "output_type": "stream",
          "name": "stdout",
          "text": [
            "Other brands total 1077\n"
          ]
        }
      ]
    },
    {
      "cell_type": "code",
      "source": [
        "others = bike_brands_less_than_100.keys()\n",
        "others"
      ],
      "metadata": {
        "execution": {
          "iopub.status.busy": "2021-07-26T15:12:31.578107Z",
          "iopub.execute_input": "2021-07-26T15:12:31.578557Z",
          "iopub.status.idle": "2021-07-26T15:12:31.586832Z",
          "shell.execute_reply.started": "2021-07-26T15:12:31.578517Z",
          "shell.execute_reply": "2021-07-26T15:12:31.585662Z"
        },
        "trusted": true,
        "id": "YThy4FBrKnnL",
        "outputId": "04db1adc-7a89-4bdc-facf-e58fcdab256c",
        "colab": {
          "base_uri": "https://localhost:8080/"
        }
      },
      "execution_count": 12,
      "outputs": [
        {
          "output_type": "execute_result",
          "data": {
            "text/plain": [
              "Index(['Harley-Davidson', 'Kawasaki', 'Hyosung', 'Benelli', 'Mahindra',\n",
              "       'Triumph', 'Ducati', 'BMW', 'Jawa', 'MV', 'Indian', 'Ideal', 'Rajdoot',\n",
              "       'LML', 'Yezdi'],\n",
              "      dtype='object')"
            ]
          },
          "metadata": {},
          "execution_count": 12
        }
      ]
    },
    {
      "cell_type": "code",
      "source": [
        "df['brand'].replace(others,\"Others\",inplace=True)\n",
        "df['brand'].value_counts().plot(kind=\"barh\")\n",
        "plt.gca().invert_yaxis()\n",
        "plt.show()"
      ],
      "metadata": {
        "execution": {
          "iopub.status.busy": "2021-07-26T15:12:50.442726Z",
          "iopub.execute_input": "2021-07-26T15:12:50.443389Z",
          "iopub.status.idle": "2021-07-26T15:12:50.669311Z",
          "shell.execute_reply.started": "2021-07-26T15:12:50.443349Z",
          "shell.execute_reply": "2021-07-26T15:12:50.668055Z"
        },
        "trusted": true,
        "id": "Bc5wvFhqKnnM",
        "outputId": "435b5e08-53f9-435c-fc2f-80ea0f3a2f48",
        "colab": {
          "base_uri": "https://localhost:8080/",
          "height": 484
        }
      },
      "execution_count": 13,
      "outputs": [
        {
          "output_type": "display_data",
          "data": {
            "text/plain": [
              "<Figure size 800x550 with 1 Axes>"
            ],
            "image/png": "[encoded data removed]"
          },
          "metadata": {}
        }
      ]
    },
    {
      "cell_type": "code",
      "source": [
        "bike_groups = df.groupby('brand')"
      ],
      "metadata": {
        "execution": {
          "iopub.status.busy": "2021-07-26T15:13:03.696906Z",
          "iopub.execute_input": "2021-07-26T15:13:03.697371Z",
          "iopub.status.idle": "2021-07-26T15:13:03.702736Z",
          "shell.execute_reply.started": "2021-07-26T15:13:03.697335Z",
          "shell.execute_reply": "2021-07-26T15:13:03.701532Z"
        },
        "trusted": true,
        "id": "g8Duvv4uKnnN"
      },
      "execution_count": 14,
      "outputs": []
    },
    {
      "cell_type": "code",
      "source": [
        "def get_average_plot_data(col,scale=None):\n",
        "    brands = df['brand'].unique()\n",
        "    avgs = []\n",
        "    for brand in brands:\n",
        "        average = bike_groups.get_group(brand)[col].mean()\n",
        "        avgs.append(average)\n",
        "    df1 = pd.DataFrame({\"Brand\":brands,f\"Average {col}\":avgs})\n",
        "    \n",
        "    x = df1[df1.columns[1]]\n",
        "    y = df1[df1.columns[0]]\n",
        "    sns.barplot(data=df1,x=x,y=y)\n",
        "    plt.title(f\"Average {col} of various brands\")\n",
        "    if scale:\n",
        "        plt.xscale(scale)\n",
        "    plt.show()"
      ],
      "metadata": {
        "execution": {
          "iopub.status.busy": "2021-07-26T15:13:11.477606Z",
          "iopub.execute_input": "2021-07-26T15:13:11.478056Z",
          "iopub.status.idle": "2021-07-26T15:13:11.486670Z",
          "shell.execute_reply.started": "2021-07-26T15:13:11.478015Z",
          "shell.execute_reply": "2021-07-26T15:13:11.485793Z"
        },
        "trusted": true,
        "id": "x36tTkmHKnnO"
      },
      "execution_count": 15,
      "outputs": []
    },
    {
      "cell_type": "markdown",
      "source": [
        "# **Average age of each bike brand**"
      ],
      "metadata": {
        "id": "W_1JzNggKnnR"
      }
    },
    {
      "cell_type": "code",
      "source": [
        "get_average_plot_data('age')"
      ],
      "metadata": {
        "execution": {
          "iopub.status.busy": "2021-07-26T15:13:23.247065Z",
          "iopub.execute_input": "2021-07-26T15:13:23.247773Z",
          "iopub.status.idle": "2021-07-26T15:13:23.467188Z",
          "shell.execute_reply.started": "2021-07-26T15:13:23.247731Z",
          "shell.execute_reply": "2021-07-26T15:13:23.465909Z"
        },
        "trusted": true,
        "id": "IQa5cgEfKnnT",
        "outputId": "720a4258-3a82-4318-fe4b-14b972f9fa1f",
        "colab": {
          "base_uri": "https://localhost:8080/",
          "height": 524
        }
      },
      "execution_count": 16,
      "outputs": [
        {
          "output_type": "display_data",
          "data": {
            "text/plain": [
              "<Figure size 800x550 with 1 Axes>"
            ],
            "image/png": "[encoded data removed]"
          },
          "metadata": {}
        }
      ]
    },
    {
      "cell_type": "markdown",
      "source": [
        "# **Average price of each bike brand**"
      ],
      "metadata": {
        "id": "DK0W5V2iKnnT"
      }
    },
    {
      "cell_type": "code",
      "source": [
        "get_average_plot_data('price','symlog')"
      ],
      "metadata": {
        "execution": {
          "iopub.status.busy": "2021-07-26T15:13:28.934999Z",
          "iopub.execute_input": "2021-07-26T15:13:28.935440Z",
          "iopub.status.idle": "2021-07-26T15:13:29.280872Z",
          "shell.execute_reply.started": "2021-07-26T15:13:28.935400Z",
          "shell.execute_reply": "2021-07-26T15:13:29.279838Z"
        },
        "trusted": true,
        "id": "htUTNg-yKnnU",
        "outputId": "0509e709-7e95-407b-a832-5cb8094d8666",
        "colab": {
          "base_uri": "https://localhost:8080/",
          "height": 528
        }
      },
      "execution_count": 17,
      "outputs": [
        {
          "output_type": "display_data",
          "data": {
            "text/plain": [
              "<Figure size 800x550 with 1 Axes>"
            ],
            "image/png": "[encoded data removed]"
          },
          "metadata": {}
        }
      ]
    },
    {
      "cell_type": "markdown",
      "source": [
        "# **Average KMs driven of each bike brand**"
      ],
      "metadata": {
        "id": "FsvQCrOiKnnV"
      }
    },
    {
      "cell_type": "code",
      "source": [
        "get_average_plot_data('kms_driven')"
      ],
      "metadata": {
        "execution": {
          "iopub.status.busy": "2021-07-26T15:13:35.214998Z",
          "iopub.execute_input": "2021-07-26T15:13:35.215474Z",
          "iopub.status.idle": "2021-07-26T15:13:35.427870Z",
          "shell.execute_reply.started": "2021-07-26T15:13:35.215395Z",
          "shell.execute_reply": "2021-07-26T15:13:35.426549Z"
        },
        "trusted": true,
        "id": "9xLZnJlqKnnY",
        "outputId": "340b2da8-44ff-4976-d9d6-9d2bd99f2fd3",
        "colab": {
          "base_uri": "https://localhost:8080/",
          "height": 524
        }
      },
      "execution_count": 18,
      "outputs": [
        {
          "output_type": "display_data",
          "data": {
            "text/plain": [
              "<Figure size 800x550 with 1 Axes>"
            ],
            "image/png": "[encoded data removed]"
          },
          "metadata": {}
        }
      ]
    },
    {
      "cell_type": "markdown",
      "source": [
        "# **Average power of each bike brand**"
      ],
      "metadata": {
        "id": "3tQ2GKweKnnZ"
      }
    },
    {
      "cell_type": "code",
      "source": [
        "get_average_plot_data('power')"
      ],
      "metadata": {
        "execution": {
          "iopub.status.busy": "2021-07-26T15:13:40.202444Z",
          "iopub.execute_input": "2021-07-26T15:13:40.202842Z",
          "iopub.status.idle": "2021-07-26T15:13:40.408744Z",
          "shell.execute_reply.started": "2021-07-26T15:13:40.202805Z",
          "shell.execute_reply": "2021-07-26T15:13:40.407699Z"
        },
        "trusted": true,
        "id": "me24RGJ4Knnb",
        "outputId": "c1ff33f0-4051-4437-bff7-70eba4aee5cf",
        "colab": {
          "base_uri": "https://localhost:8080/",
          "height": 524
        }
      },
      "execution_count": 19,
      "outputs": [
        {
          "output_type": "display_data",
          "data": {
            "text/plain": [
              "<Figure size 800x550 with 1 Axes>"
            ],
            "image/png": "[encoded data removed]"
          },
          "metadata": {}
        }
      ]
    },
    {
      "cell_type": "markdown",
      "source": [
        "# **Pair Plot**"
      ],
      "metadata": {
        "id": "_7Arqc2MKnnc"
      }
    },
    {
      "cell_type": "code",
      "source": [
        "cols_to_plot = ['brand', 'price', 'kms_driven', 'age', 'power']\n",
        "plt.figure(figsize=(10,10))\n",
        "sns.pairplot(df[cols_to_plot], hue='brand')\n",
        "plt.show()"
      ],
      "metadata": {
        "execution": {
          "iopub.status.busy": "2021-07-26T12:22:56.067149Z",
          "iopub.execute_input": "2021-07-26T12:22:56.067443Z",
          "iopub.status.idle": "2021-07-26T12:23:26.642807Z",
          "shell.execute_reply.started": "2021-07-26T12:22:56.067414Z",
          "shell.execute_reply": "2021-07-26T12:23:26.641726Z"
        },
        "trusted": true,
        "id": "wFR0a2tKKnnc"
      },
      "execution_count": null,
      "outputs": []
    },
    {
      "cell_type": "markdown",
      "source": [
        "# **City Counts**"
      ],
      "metadata": {
        "id": "u3Oi2wWAKnnd"
      }
    },
    {
      "cell_type": "code",
      "source": [
        "df['city'].value_counts()"
      ],
      "metadata": {
        "execution": {
          "iopub.status.busy": "2021-07-26T12:23:26.644451Z",
          "iopub.execute_input": "2021-07-26T12:23:26.644876Z",
          "iopub.status.idle": "2021-07-26T12:23:26.664310Z",
          "shell.execute_reply.started": "2021-07-26T12:23:26.644831Z",
          "shell.execute_reply": "2021-07-26T12:23:26.662904Z"
        },
        "trusted": true,
        "id": "JMkIqs06Knnf"
      },
      "execution_count": null,
      "outputs": []
    },
    {
      "cell_type": "markdown",
      "source": [
        "# **Popular cities**"
      ],
      "metadata": {
        "id": "nvsL0a0KKnng"
      }
    },
    {
      "cell_type": "code",
      "source": [
        "city_counts = df['city'].value_counts()\n",
        "city_counts[city_counts>=500]"
      ],
      "metadata": {
        "execution": {
          "iopub.status.busy": "2021-07-26T12:23:26.666136Z",
          "iopub.execute_input": "2021-07-26T12:23:26.666602Z",
          "iopub.status.idle": "2021-07-26T12:23:26.690427Z",
          "shell.execute_reply.started": "2021-07-26T12:23:26.666541Z",
          "shell.execute_reply": "2021-07-26T12:23:26.689289Z"
        },
        "trusted": true,
        "id": "zK3DpqTvKnng"
      },
      "execution_count": null,
      "outputs": []
    },
    {
      "cell_type": "markdown",
      "source": [
        "# **Setting cities to others where city frequency is < 500**"
      ],
      "metadata": {
        "id": "6XAEfTXFKnni"
      }
    },
    {
      "cell_type": "code",
      "source": [
        "other_cities = city_counts[city_counts<500]\n",
        "df['city'].replace(other_cities.keys(),'Others',inplace=True)"
      ],
      "metadata": {
        "execution": {
          "iopub.status.busy": "2021-07-26T12:23:26.691643Z",
          "iopub.execute_input": "2021-07-26T12:23:26.691920Z",
          "iopub.status.idle": "2021-07-26T12:23:27.344792Z",
          "shell.execute_reply.started": "2021-07-26T12:23:26.691893Z",
          "shell.execute_reply": "2021-07-26T12:23:27.343653Z"
        },
        "trusted": true,
        "id": "4m8H0VIMKnni"
      },
      "execution_count": null,
      "outputs": []
    },
    {
      "cell_type": "code",
      "source": [
        "plt.figure(figsize=(10,10))\n",
        "df['city'].value_counts().plot(kind='barh')\n",
        "plt.gca().invert_yaxis()\n",
        "plt.show()"
      ],
      "metadata": {
        "execution": {
          "iopub.status.busy": "2021-07-26T12:24:41.492287Z",
          "iopub.execute_input": "2021-07-26T12:24:41.492697Z",
          "iopub.status.idle": "2021-07-26T12:24:41.803904Z",
          "shell.execute_reply.started": "2021-07-26T12:24:41.492667Z",
          "shell.execute_reply": "2021-07-26T12:24:41.802946Z"
        },
        "trusted": true,
        "id": "OxB2RRyFKnnj"
      },
      "execution_count": null,
      "outputs": []
    },
    {
      "cell_type": "code",
      "source": [
        "df.head()"
      ],
      "metadata": {
        "execution": {
          "iopub.status.busy": "2021-07-26T15:15:55.978882Z",
          "iopub.execute_input": "2021-07-26T15:15:55.979530Z",
          "iopub.status.idle": "2021-07-26T15:15:56.000876Z",
          "shell.execute_reply.started": "2021-07-26T15:15:55.979473Z",
          "shell.execute_reply": "2021-07-26T15:15:55.999784Z"
        },
        "trusted": true,
        "id": "sz_m9CnBKnnm"
      },
      "execution_count": null,
      "outputs": []
    },
    {
      "cell_type": "code",
      "source": [
        "df['owner'].value_counts()"
      ],
      "metadata": {
        "execution": {
          "iopub.status.busy": "2021-07-26T15:16:01.027334Z",
          "iopub.execute_input": "2021-07-26T15:16:01.027746Z",
          "iopub.status.idle": "2021-07-26T15:16:01.046356Z",
          "shell.execute_reply.started": "2021-07-26T15:16:01.027711Z",
          "shell.execute_reply": "2021-07-26T15:16:01.045168Z"
        },
        "trusted": true,
        "id": "2PW61LCEKnnr"
      },
      "execution_count": null,
      "outputs": []
    },
    {
      "cell_type": "code",
      "source": [
        "df['owner'].replace(['Second Owner','Third Owner','Fourth Owner Or More'],'Second Owner or more',inplace=True)\n",
        "df['owner'].value_counts()"
      ],
      "metadata": {
        "execution": {
          "iopub.status.busy": "2021-07-26T15:16:07.295615Z",
          "iopub.execute_input": "2021-07-26T15:16:07.295981Z",
          "iopub.status.idle": "2021-07-26T15:16:07.324065Z",
          "shell.execute_reply.started": "2021-07-26T15:16:07.295950Z",
          "shell.execute_reply": "2021-07-26T15:16:07.322878Z"
        },
        "trusted": true,
        "id": "GwIdeFzWKnns"
      },
      "execution_count": null,
      "outputs": []
    },
    {
      "cell_type": "markdown",
      "source": [
        "# **Feature Engineering**"
      ],
      "metadata": {
        "id": "lysDuk4fKnns"
      }
    },
    {
      "cell_type": "markdown",
      "source": [
        "## **One Hot encoding**"
      ],
      "metadata": {
        "id": "6_VVIIQDKnnt"
      }
    },
    {
      "cell_type": "code",
      "source": [
        "cols_to_encode = ['brand', 'city', 'owner']\n",
        "dummies = pd.get_dummies(df[cols_to_encode],drop_first=True)\n",
        "dummies.sample(10)"
      ],
      "metadata": {
        "execution": {
          "iopub.status.busy": "2021-07-26T15:16:18.043995Z",
          "iopub.execute_input": "2021-07-26T15:16:18.044537Z",
          "iopub.status.idle": "2021-07-26T15:16:18.220052Z",
          "shell.execute_reply.started": "2021-07-26T15:16:18.044492Z",
          "shell.execute_reply": "2021-07-26T15:16:18.219016Z"
        },
        "trusted": true,
        "id": "oNzkdhVoKnnu"
      },
      "execution_count": null,
      "outputs": []
    },
    {
      "cell_type": "markdown",
      "source": [
        "## **Feature Scaling** "
      ],
      "metadata": {
        "id": "Hc6E6TjeKnnu"
      }
    },
    {
      "cell_type": "code",
      "source": [
        "cols_to_scale = ['kms_driven', 'age', 'power']\n",
        "scale = MinMaxScaler()\n",
        "scalled = scale.fit_transform(df[cols_to_scale])"
      ],
      "metadata": {
        "execution": {
          "iopub.status.busy": "2021-07-26T15:16:25.355296Z",
          "iopub.execute_input": "2021-07-26T15:16:25.355653Z",
          "iopub.status.idle": "2021-07-26T15:16:25.367103Z",
          "shell.execute_reply.started": "2021-07-26T15:16:25.355623Z",
          "shell.execute_reply": "2021-07-26T15:16:25.365906Z"
        },
        "trusted": true,
        "id": "e5L5k9AXKnnv"
      },
      "execution_count": null,
      "outputs": []
    },
    {
      "cell_type": "code",
      "source": [
        "i = 0\n",
        "for col in cols_to_scale:\n",
        "    df[col] = scalled[:,i]\n",
        "    i += 1"
      ],
      "metadata": {
        "execution": {
          "iopub.status.busy": "2021-07-26T15:16:27.047689Z",
          "iopub.execute_input": "2021-07-26T15:16:27.048105Z",
          "iopub.status.idle": "2021-07-26T15:16:27.055249Z",
          "shell.execute_reply.started": "2021-07-26T15:16:27.048072Z",
          "shell.execute_reply": "2021-07-26T15:16:27.054144Z"
        },
        "trusted": true,
        "id": "9jkWIMK0Knnw"
      },
      "execution_count": null,
      "outputs": []
    },
    {
      "cell_type": "code",
      "source": [
        "df.head()"
      ],
      "metadata": {
        "execution": {
          "iopub.status.busy": "2021-07-26T15:16:31.527771Z",
          "iopub.execute_input": "2021-07-26T15:16:31.528181Z",
          "iopub.status.idle": "2021-07-26T15:16:31.545137Z",
          "shell.execute_reply.started": "2021-07-26T15:16:31.528149Z",
          "shell.execute_reply": "2021-07-26T15:16:31.544114Z"
        },
        "trusted": true,
        "id": "RL3f9MPmKnnx"
      },
      "execution_count": null,
      "outputs": []
    },
    {
      "cell_type": "code",
      "source": [
        "df.drop(cols_to_encode,axis=1,inplace=True)\n",
        "df.head()"
      ],
      "metadata": {
        "execution": {
          "iopub.status.busy": "2021-07-26T15:16:44.709417Z",
          "iopub.execute_input": "2021-07-26T15:16:44.709815Z",
          "iopub.status.idle": "2021-07-26T15:16:44.726869Z",
          "shell.execute_reply.started": "2021-07-26T15:16:44.709781Z",
          "shell.execute_reply": "2021-07-26T15:16:44.725320Z"
        },
        "trusted": true,
        "id": "kQFTa-jRKnny"
      },
      "execution_count": null,
      "outputs": []
    },
    {
      "cell_type": "code",
      "source": [
        "new_df = pd.concat([dummies,df],axis=1)\n",
        "new_df.shape"
      ],
      "metadata": {
        "execution": {
          "iopub.status.busy": "2021-07-26T15:16:51.361414Z",
          "iopub.execute_input": "2021-07-26T15:16:51.361818Z",
          "iopub.status.idle": "2021-07-26T15:16:51.377832Z",
          "shell.execute_reply.started": "2021-07-26T15:16:51.361781Z",
          "shell.execute_reply": "2021-07-26T15:16:51.376673Z"
        },
        "trusted": true,
        "id": "8LH5TK5sKnny"
      },
      "execution_count": null,
      "outputs": []
    },
    {
      "cell_type": "code",
      "source": [
        "new_df.head()"
      ],
      "metadata": {
        "execution": {
          "iopub.status.busy": "2021-07-26T15:16:53.577411Z",
          "iopub.execute_input": "2021-07-26T15:16:53.577854Z",
          "iopub.status.idle": "2021-07-26T15:16:53.604875Z",
          "shell.execute_reply.started": "2021-07-26T15:16:53.577815Z",
          "shell.execute_reply": "2021-07-26T15:16:53.603626Z"
        },
        "trusted": true,
        "id": "dHCUEkxmKnnz"
      },
      "execution_count": null,
      "outputs": []
    },
    {
      "cell_type": "code",
      "source": [
        "sum(new_df.isna().sum())"
      ],
      "metadata": {
        "execution": {
          "iopub.status.busy": "2021-07-26T15:17:01.240666Z",
          "iopub.execute_input": "2021-07-26T15:17:01.241032Z",
          "iopub.status.idle": "2021-07-26T15:17:01.273173Z",
          "shell.execute_reply.started": "2021-07-26T15:17:01.241001Z",
          "shell.execute_reply": "2021-07-26T15:17:01.272096Z"
        },
        "trusted": true,
        "id": "bbX0In2HKnn4"
      },
      "execution_count": null,
      "outputs": []
    },
    {
      "cell_type": "markdown",
      "source": [
        "# **Splitting and Training data**"
      ],
      "metadata": {
        "id": "NUdLZebaKnn4"
      }
    },
    {
      "cell_type": "code",
      "source": [
        "x ,y = new_df.drop(['price'],axis=1), new_df['price']\n",
        "x.shape, y.shape"
      ],
      "metadata": {
        "execution": {
          "iopub.status.busy": "2021-07-26T12:40:07.837974Z",
          "iopub.execute_input": "2021-07-26T12:40:07.838561Z",
          "iopub.status.idle": "2021-07-26T12:40:07.849600Z",
          "shell.execute_reply.started": "2021-07-26T12:40:07.838507Z",
          "shell.execute_reply": "2021-07-26T12:40:07.848380Z"
        },
        "trusted": true,
        "id": "5_GqCqWwKnn5"
      },
      "execution_count": null,
      "outputs": []
    },
    {
      "cell_type": "code",
      "source": [
        "y.head()"
      ],
      "metadata": {
        "execution": {
          "iopub.status.busy": "2021-07-26T15:17:04.813476Z",
          "iopub.execute_input": "2021-07-26T15:17:04.813825Z",
          "iopub.status.idle": "2021-07-26T15:17:04.822504Z",
          "shell.execute_reply.started": "2021-07-26T15:17:04.813795Z",
          "shell.execute_reply": "2021-07-26T15:17:04.821285Z"
        },
        "trusted": true,
        "id": "wv5ZXhq8Knn7"
      },
      "execution_count": null,
      "outputs": []
    },
    {
      "cell_type": "code",
      "source": [
        "x_train, x_test, y_train, y_test = train_test_split(x, y, test_size=0.3)"
      ],
      "metadata": {
        "execution": {
          "iopub.status.busy": "2021-07-26T15:17:56.307387Z",
          "iopub.execute_input": "2021-07-26T15:17:56.307782Z",
          "iopub.status.idle": "2021-07-26T15:17:56.328134Z",
          "shell.execute_reply.started": "2021-07-26T15:17:56.307749Z",
          "shell.execute_reply": "2021-07-26T15:17:56.326873Z"
        },
        "trusted": true,
        "id": "dnbEfPbkKnn_"
      },
      "execution_count": null,
      "outputs": []
    },
    {
      "cell_type": "code",
      "source": [
        "x_train.shape, x_test.shape"
      ],
      "metadata": {
        "execution": {
          "iopub.status.busy": "2021-07-26T15:23:07.637852Z",
          "iopub.execute_input": "2021-07-26T15:23:07.638219Z",
          "iopub.status.idle": "2021-07-26T15:23:07.644976Z",
          "shell.execute_reply.started": "2021-07-26T15:23:07.638183Z",
          "shell.execute_reply": "2021-07-26T15:23:07.644020Z"
        },
        "trusted": true,
        "id": "WhBW08n2KnoA"
      },
      "execution_count": null,
      "outputs": []
    },
    {
      "cell_type": "code",
      "source": [
        "y_train.shape, y_test.shape"
      ],
      "metadata": {
        "execution": {
          "iopub.status.busy": "2021-07-26T15:23:10.717372Z",
          "iopub.execute_input": "2021-07-26T15:23:10.717860Z",
          "iopub.status.idle": "2021-07-26T15:23:10.724197Z",
          "shell.execute_reply.started": "2021-07-26T15:23:10.717828Z",
          "shell.execute_reply": "2021-07-26T15:23:10.723024Z"
        },
        "trusted": true,
        "id": "X5Ie0OLuKnoA"
      },
      "execution_count": null,
      "outputs": []
    },
    {
      "cell_type": "markdown",
      "source": [
        "# **Model Building and predictions**"
      ],
      "metadata": {
        "id": "yQ50243TKnoB"
      }
    },
    {
      "cell_type": "code",
      "source": [
        "model = LinearRegression()\n",
        "model.fit(x_train, y_train)"
      ],
      "metadata": {
        "execution": {
          "iopub.status.busy": "2021-07-26T15:18:04.337489Z",
          "iopub.execute_input": "2021-07-26T15:18:04.337894Z",
          "iopub.status.idle": "2021-07-26T15:18:04.368870Z",
          "shell.execute_reply.started": "2021-07-26T15:18:04.337862Z",
          "shell.execute_reply": "2021-07-26T15:18:04.368021Z"
        },
        "trusted": true,
        "id": "-DpM7fYCKnoC"
      },
      "execution_count": null,
      "outputs": []
    },
    {
      "cell_type": "code",
      "source": [
        "model.score(x_test,y_test)"
      ],
      "metadata": {
        "execution": {
          "iopub.status.busy": "2021-07-26T15:18:06.937531Z",
          "iopub.execute_input": "2021-07-26T15:18:06.938206Z",
          "iopub.status.idle": "2021-07-26T15:18:06.961540Z",
          "shell.execute_reply.started": "2021-07-26T15:18:06.938144Z",
          "shell.execute_reply": "2021-07-26T15:18:06.960423Z"
        },
        "trusted": true,
        "id": "rqsjiXSiKnoD"
      },
      "execution_count": null,
      "outputs": []
    },
    {
      "cell_type": "code",
      "source": [
        "model.score(x_train,y_train)"
      ],
      "metadata": {
        "execution": {
          "iopub.status.busy": "2021-07-26T15:18:12.232185Z",
          "iopub.execute_input": "2021-07-26T15:18:12.232616Z",
          "iopub.status.idle": "2021-07-26T15:18:12.247739Z",
          "shell.execute_reply.started": "2021-07-26T15:18:12.232585Z",
          "shell.execute_reply": "2021-07-26T15:18:12.246221Z"
        },
        "trusted": true,
        "id": "UnCtb60eKnoD"
      },
      "execution_count": null,
      "outputs": []
    },
    {
      "cell_type": "markdown",
      "source": [
        "# **That's a descent score**"
      ],
      "metadata": {
        "id": "0J13fJKnKnoi"
      }
    },
    {
      "cell_type": "markdown",
      "source": [
        "# **Cross Validation scores**"
      ],
      "metadata": {
        "id": "5JZUAXcFKnoj"
      }
    },
    {
      "cell_type": "code",
      "source": [
        "models = [LinearRegression(), Ridge(), Lasso(), KNeighborsRegressor()]"
      ],
      "metadata": {
        "execution": {
          "iopub.status.busy": "2021-07-26T15:18:27.113005Z",
          "iopub.execute_input": "2021-07-26T15:18:27.113393Z",
          "iopub.status.idle": "2021-07-26T15:18:27.119118Z",
          "shell.execute_reply.started": "2021-07-26T15:18:27.113359Z",
          "shell.execute_reply": "2021-07-26T15:18:27.117901Z"
        },
        "trusted": true,
        "id": "JtSwPkGBKnoj"
      },
      "execution_count": null,
      "outputs": []
    },
    {
      "cell_type": "code",
      "source": [
        "mean_scores = []\n",
        "for model in models:\n",
        "    print(\"Model:\",model)\n",
        "    cv_scores = cross_val_score(model, x, y, cv=5)\n",
        "    print(\"Cross Val Scores:\",cv_scores)\n",
        "    print(\"Mean score:\", cv_scores.mean())\n",
        "    mean_scores.append(cv_scores.mean())\n",
        "    print('\\n')"
      ],
      "metadata": {
        "execution": {
          "iopub.status.busy": "2021-07-26T15:18:28.796858Z",
          "iopub.execute_input": "2021-07-26T15:18:28.797480Z",
          "iopub.status.idle": "2021-07-26T15:18:58.534399Z",
          "shell.execute_reply.started": "2021-07-26T15:18:28.797445Z",
          "shell.execute_reply": "2021-07-26T15:18:58.533061Z"
        },
        "trusted": true,
        "id": "xHCS_-jqKnok"
      },
      "execution_count": null,
      "outputs": []
    },
    {
      "cell_type": "code",
      "source": [
        "mds = []\n",
        "for i in range(len(models)):\n",
        "    mds.append(str(models[i]))\n",
        "mds"
      ],
      "metadata": {
        "execution": {
          "iopub.status.busy": "2021-07-26T15:18:58.536410Z",
          "iopub.execute_input": "2021-07-26T15:18:58.536836Z",
          "iopub.status.idle": "2021-07-26T15:18:58.545792Z",
          "shell.execute_reply.started": "2021-07-26T15:18:58.536790Z",
          "shell.execute_reply": "2021-07-26T15:18:58.544427Z"
        },
        "trusted": true,
        "id": "Y3-tu_mWKnok"
      },
      "execution_count": null,
      "outputs": []
    },
    {
      "cell_type": "code",
      "source": [
        "mean_df = pd.DataFrame({'Model':mds, 'Mean CVScore':mean_scores})\n",
        "sns.barplot(data=mean_df,y='Model', x='Mean CVScore')\n",
        "plt.show()"
      ],
      "metadata": {
        "execution": {
          "iopub.status.busy": "2021-07-26T15:19:07.994474Z",
          "iopub.execute_input": "2021-07-26T15:19:07.994843Z",
          "iopub.status.idle": "2021-07-26T15:19:08.138708Z",
          "shell.execute_reply.started": "2021-07-26T15:19:07.994809Z",
          "shell.execute_reply": "2021-07-26T15:19:08.137463Z"
        },
        "trusted": true,
        "id": "bdjNcN0yKnoo"
      },
      "execution_count": null,
      "outputs": []
    },
    {
      "cell_type": "code",
      "source": [
        "svm_model = SVR()\n",
        "svm_model.fit(x_train,y_train)\n",
        "svm_model.score(x_test,y_test)"
      ],
      "metadata": {
        "execution": {
          "iopub.status.busy": "2021-07-26T13:01:10.995752Z",
          "iopub.execute_input": "2021-07-26T13:01:10.996250Z",
          "iopub.status.idle": "2021-07-26T13:02:27.321897Z",
          "shell.execute_reply.started": "2021-07-26T13:01:10.996196Z",
          "shell.execute_reply": "2021-07-26T13:02:27.320753Z"
        },
        "trusted": true,
        "id": "5MERwX6GKnot"
      },
      "execution_count": null,
      "outputs": []
    },
    {
      "cell_type": "code",
      "source": [
        "model = LinearRegression()\n",
        "model.fit(x_train, y_train)\n",
        "y_pred_test = model.predict(x_test)\n",
        "mean_squared_error(y_test, y_pred_test)"
      ],
      "metadata": {
        "execution": {
          "iopub.status.busy": "2021-07-26T15:19:53.691952Z",
          "iopub.execute_input": "2021-07-26T15:19:53.692379Z",
          "iopub.status.idle": "2021-07-26T15:19:53.740063Z",
          "shell.execute_reply.started": "2021-07-26T15:19:53.692342Z",
          "shell.execute_reply": "2021-07-26T15:19:53.738548Z"
        },
        "trusted": true,
        "id": "sAp4kmIfKno0"
      },
      "execution_count": null,
      "outputs": []
    },
    {
      "cell_type": "markdown",
      "source": [
        "# **Actual vs Predicted**"
      ],
      "metadata": {
        "id": "qCW9UVSPKno2"
      }
    },
    {
      "cell_type": "code",
      "source": [
        "def actual_vs_predicted(model,data,y_true,title=None):\n",
        "    pred = model.predict(data)\n",
        "    apdf = pd.DataFrame({'Actual':y_true, 'Predicted':np.round(pred)})\n",
        "    plt.figure(figsize=(10, 10))\n",
        "    sns.scatterplot(data=apdf, x='Actual', y='Predicted') \n",
        "    plt.title(title)\n",
        "    plt.show()"
      ],
      "metadata": {
        "execution": {
          "iopub.status.busy": "2021-07-26T15:19:58.948975Z",
          "iopub.execute_input": "2021-07-26T15:19:58.949390Z",
          "iopub.status.idle": "2021-07-26T15:19:58.957799Z",
          "shell.execute_reply.started": "2021-07-26T15:19:58.949354Z",
          "shell.execute_reply": "2021-07-26T15:19:58.956599Z"
        },
        "trusted": true,
        "id": "izN1z1tZKno4"
      },
      "execution_count": null,
      "outputs": []
    },
    {
      "cell_type": "code",
      "source": [],
      "metadata": {
        "execution": {
          "iopub.status.busy": "2021-07-26T15:22:46.797185Z",
          "iopub.execute_input": "2021-07-26T15:22:46.797622Z",
          "iopub.status.idle": "2021-07-26T15:22:47.110662Z",
          "shell.execute_reply.started": "2021-07-26T15:22:46.797586Z",
          "shell.execute_reply": "2021-07-26T15:22:47.109492Z"
        },
        "trusted": true,
        "id": "-HQqUIAkKno5"
      },
      "execution_count": null,
      "outputs": []
    },
    {
      "cell_type": "code",
      "source": [
        "actual_vs_predicted(model,x_test,y_test,'Linear Regression Test Data')"
      ],
      "metadata": {
        "execution": {
          "iopub.status.busy": "2021-07-26T15:23:54.235625Z",
          "iopub.execute_input": "2021-07-26T15:23:54.236229Z",
          "iopub.status.idle": "2021-07-26T15:23:54.514510Z",
          "shell.execute_reply.started": "2021-07-26T15:23:54.236174Z",
          "shell.execute_reply": "2021-07-26T15:23:54.513432Z"
        },
        "trusted": true,
        "id": "KaEv55S7Kno5"
      },
      "execution_count": null,
      "outputs": []
    },
    {
      "cell_type": "markdown",
      "source": [
        "# **Let's use RandomForestRegressor**"
      ],
      "metadata": {
        "id": "gGXff-OBKno8"
      }
    },
    {
      "cell_type": "code",
      "source": [
        "rfr_model = RandomForestRegressor()\n",
        "rfr_model.fit(x_train, y_train)"
      ],
      "metadata": {
        "execution": {
          "iopub.status.busy": "2021-07-26T15:24:03.881401Z",
          "iopub.execute_input": "2021-07-26T15:24:03.881798Z",
          "iopub.status.idle": "2021-07-26T15:24:08.768057Z",
          "shell.execute_reply.started": "2021-07-26T15:24:03.881762Z",
          "shell.execute_reply": "2021-07-26T15:24:08.766864Z"
        },
        "trusted": true,
        "id": "ECX0FQk3Kno9"
      },
      "execution_count": null,
      "outputs": []
    },
    {
      "cell_type": "code",
      "source": [
        "rfr_model.score(x_test, y_test)"
      ],
      "metadata": {
        "execution": {
          "iopub.status.busy": "2021-07-26T15:24:11.001517Z",
          "iopub.execute_input": "2021-07-26T15:24:11.001916Z",
          "iopub.status.idle": "2021-07-26T15:24:11.188162Z",
          "shell.execute_reply.started": "2021-07-26T15:24:11.001883Z",
          "shell.execute_reply": "2021-07-26T15:24:11.187258Z"
        },
        "trusted": true,
        "id": "9hGeH9V8Kno9"
      },
      "execution_count": null,
      "outputs": []
    },
    {
      "cell_type": "code",
      "source": [
        "rfr_model.score(x_train, y_train)"
      ],
      "metadata": {
        "execution": {
          "iopub.status.busy": "2021-07-26T15:24:16.218112Z",
          "iopub.execute_input": "2021-07-26T15:24:16.218519Z",
          "iopub.status.idle": "2021-07-26T15:24:16.619803Z",
          "shell.execute_reply.started": "2021-07-26T15:24:16.218485Z",
          "shell.execute_reply": "2021-07-26T15:24:16.618612Z"
        },
        "trusted": true,
        "id": "BzIJUXZPKnpA"
      },
      "execution_count": null,
      "outputs": []
    },
    {
      "cell_type": "code",
      "source": [
        "actual_vs_predicted(rfr_model,x_test, y_test, \"RandomForestRegressor Test data\")"
      ],
      "metadata": {
        "execution": {
          "iopub.status.busy": "2021-07-26T15:24:19.290477Z",
          "iopub.execute_input": "2021-07-26T15:24:19.290836Z",
          "iopub.status.idle": "2021-07-26T15:24:19.680713Z",
          "shell.execute_reply.started": "2021-07-26T15:24:19.290805Z",
          "shell.execute_reply": "2021-07-26T15:24:19.679430Z"
        },
        "trusted": true,
        "id": "5jvlGhyHKnpA"
      },
      "execution_count": null,
      "outputs": []
    },
    {
      "cell_type": "code",
      "source": [
        "actual_vs_predicted(rfr_model,x_train, y_train, \"RandomForestRegressor Train data\")"
      ],
      "metadata": {
        "execution": {
          "iopub.status.busy": "2021-07-26T15:24:28.275799Z",
          "iopub.execute_input": "2021-07-26T15:24:28.276146Z",
          "iopub.status.idle": "2021-07-26T15:24:28.932718Z",
          "shell.execute_reply.started": "2021-07-26T15:24:28.276116Z",
          "shell.execute_reply": "2021-07-26T15:24:28.931569Z"
        },
        "trusted": true,
        "id": "hukKVjgtKnpB"
      },
      "execution_count": null,
      "outputs": []
    },
    {
      "cell_type": "markdown",
      "source": [
        "# **Saving RandomForestRegressor model as file**"
      ],
      "metadata": {
        "id": "9kxF1PcMKnpB"
      }
    },
    {
      "cell_type": "code",
      "source": [
        "joblib.dump(rfr_model, 'RFR-Model')"
      ],
      "metadata": {
        "execution": {
          "iopub.status.busy": "2021-07-26T15:24:40.464381Z",
          "iopub.execute_input": "2021-07-26T15:24:40.464770Z",
          "iopub.status.idle": "2021-07-26T15:24:40.656778Z",
          "shell.execute_reply.started": "2021-07-26T15:24:40.464737Z",
          "shell.execute_reply": "2021-07-26T15:24:40.655351Z"
        },
        "trusted": true,
        "id": "4nbDF6QDKnpC"
      },
      "execution_count": null,
      "outputs": []
    },
    {
      "cell_type": "code",
      "source": [
        "!ls"
      ],
      "metadata": {
        "execution": {
          "iopub.status.busy": "2021-07-26T15:24:43.135403Z",
          "iopub.execute_input": "2021-07-26T15:24:43.135747Z",
          "iopub.status.idle": "2021-07-26T15:24:43.890118Z",
          "shell.execute_reply.started": "2021-07-26T15:24:43.135718Z",
          "shell.execute_reply": "2021-07-26T15:24:43.888885Z"
        },
        "trusted": true,
        "id": "6OOIa0mJKnpC"
      },
      "execution_count": null,
      "outputs": []
    }
  ]
}